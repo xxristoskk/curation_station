{
 "cells": [
  {
   "cell_type": "code",
   "execution_count": 1,
   "metadata": {},
   "outputs": [
    {
     "name": "stdout",
     "output_type": "stream",
     "text": [
      "https://accounts.spotify.com/authorize?client_id=b25032de1b3c444da54990d230ad65c1&response_type=code&redirect_uri=http%3A%2F%2Flocalhost%2F&scope=playlist-modify-public\n",
      "Paste the above link into your browser, then paste the redirect url here: http://localhost/?code=AQAw5Xgr9L72i_zfo_0BzvqIjPLiXYlFByyWTKDOb-F_MBa0gpvBVC09MhLylHbiAixl0eK5x06xdHT83WfLeTBblm2a7ppDPC7vQ0FyOEsQEeqis2fqTH28ZG6lP_RxcWNFQZG8Cu2S97QVemeGXxdyhFTOh2kR6UoZPgaqBPwitwRW9rmX62bVncvFXtYNsI0FP4jO0DhHsSBLiptpqQg\n"
     ]
    }
   ],
   "source": [
    "import spotipy as sp\n",
    "import json\n",
    "import curation_station as cs\n",
    "import functions as f\n",
    "import pickle\n",
    "from tqdm import tqdm"
   ]
  },
  {
   "cell_type": "code",
   "execution_count": 2,
   "metadata": {},
   "outputs": [],
   "source": [
    "sure = pickle.load(open('bc_confirmed.pickle','rb'))"
   ]
  },
  {
   "cell_type": "code",
   "execution_count": 3,
   "metadata": {},
   "outputs": [
    {
     "ename": "AttributeError",
     "evalue": "module 'spotipy' has no attribute 'artist'",
     "output_type": "error",
     "traceback": [
      "\u001b[0;31m---------------------------------------------------------------------------\u001b[0m",
      "\u001b[0;31mAttributeError\u001b[0m                            Traceback (most recent call last)",
      "\u001b[0;32m<ipython-input-3-85ecee743f90>\u001b[0m in \u001b[0;36m<module>\u001b[0;34m\u001b[0m\n\u001b[0;32m----> 1\u001b[0;31m \u001b[0msp\u001b[0m\u001b[0;34m.\u001b[0m\u001b[0martist\u001b[0m\u001b[0;34m(\u001b[0m\u001b[0msure\u001b[0m\u001b[0;34m[\u001b[0m\u001b[0;36m0\u001b[0m\u001b[0;34m]\u001b[0m\u001b[0;34m[\u001b[0m\u001b[0;36m0\u001b[0m\u001b[0;34m]\u001b[0m\u001b[0;34m)\u001b[0m\u001b[0;34m\u001b[0m\u001b[0;34m\u001b[0m\u001b[0m\n\u001b[0m",
      "\u001b[0;31mAttributeError\u001b[0m: module 'spotipy' has no attribute 'artist'"
     ]
    }
   ],
   "source": [
    "sp.artist(sure[0][0])"
   ]
  },
  {
   "cell_type": "code",
   "execution_count": null,
   "metadata": {},
   "outputs": [],
   "source": []
  }
 ],
 "metadata": {
  "kernelspec": {
   "display_name": "Python 3",
   "language": "python",
   "name": "python3"
  },
  "language_info": {
   "codemirror_mode": {
    "name": "ipython",
    "version": 3
   },
   "file_extension": ".py",
   "mimetype": "text/x-python",
   "name": "python",
   "nbconvert_exporter": "python",
   "pygments_lexer": "ipython3",
   "version": "3.7.3"
  }
 },
 "nbformat": 4,
 "nbformat_minor": 2
}
